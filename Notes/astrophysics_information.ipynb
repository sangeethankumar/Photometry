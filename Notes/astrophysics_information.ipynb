{
 "cells": [
  {
   "cell_type": "markdown",
   "metadata": {},
   "source": [
    "# Astrophysical Information\n",
    "\n",
    "Electromagnetic Radiation\n",
    "\n",
    "1. **Characteristic Photon Energy (hν):** Each type of electromagnetic radiation is made up of photons, which are particles of light. The energy of these photons is denoted by ( h $\\nu$ ), where \\( h \\) is Planck's constant and ( $\\nu$) is the frequency of the radiation. Different bands have photons with different energies. For example, X-rays have higher energy photons compared to those of visible light.\n",
    "\n",
    "2. **Characteristic Temperature (hν/k):** This relates to the temperature of the source emitting the radiation. The formula \\( h $\\nu$ /k \\) (where \\( k \\) is the Boltzmann constant) gives an idea of the temperature of the object that would emit such radiation. For instance, very hot objects emit more in the ultraviolet and X-ray bands, while cooler objects emit more in the infrared.\n",
    "\n",
    "| Band        | Characteristic Photon Energy (E_typ, hν) | Characteristic Temperature (T_typ, hν/k) |\n",
    "|-------------|------------------------------------------|------------------------------------------|\n",
    "| Gamma Ray   | 10 $^5$ eV                                  | 10 $^9$ K                                   |\n",
    "| X-ray       | 10 $^3$ eV                                  | 10 $^7$ K                                   |\n",
    "| Ultraviolet | 10 eV                                    | 10 $^5$ K                                   |\n",
    "| Visible     | 1 eV                                     | 10 $^4$ K                                   |\n",
    "| Infrared    | 0.1 eV                                   | 10 $^3$ K                                   |\n",
    "| Microwave   | 10 $^-3$ eV                                 | 10 K                                     |\n",
    "| Radio       | 10 $^-6$ eV                                 | 0.01 K                                   |\n",
    "\n",
    "Non-electromagnetic Radiation\n",
    "\n",
    "1. Neutrinos\n",
    "2. Cosmic Rays\n",
    "3. Gravitational Waves\n",
    "4. Materials like interplanetary dust particles, meteorites, etc\n"
   ]
  },
  {
   "cell_type": "markdown",
   "metadata": {},
   "source": []
  }
 ],
 "metadata": {
  "language_info": {
   "name": "python"
  }
 },
 "nbformat": 4,
 "nbformat_minor": 2
}
